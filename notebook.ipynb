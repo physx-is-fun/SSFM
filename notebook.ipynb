{
 "cells": [
  {
   "cell_type": "markdown",
   "metadata": {},
   "source": [
    "# Laser pulse propagation in optical fiber"
   ]
  },
  {
   "cell_type": "markdown",
   "metadata": {},
   "source": [
    "This notebook shows a simple, scalar implementation of the [Split-Step Fourier Method](https://en.wikipedia.org/wiki/Split-step_method) for solving the [Nonlinear Schrödinger Equation](https://en.wikipedia.org/wiki/Nonlinear_Schrödinger_equation).\n",
    "\n",
    "$\\frac{\\partial A}{\\partial z}=-\\frac{\\alpha}{2}A +i \\frac{\\beta_2}{2} \\frac{\\partial^2 A}{\\partial t^2} + \\frac{\\beta_3}{6} \\frac{\\partial^3 A}{\\partial t^3} -i \\gamma[(|A|^2A) -\\frac{i}{\\omega_0}\\frac{\\partial}{\\partial t}(|A|^2A) -T_R A\\frac{\\partial}{\\partial t}(|A|^2)]$\n",
    "\n",
    "This nonlinear partial differential equation models how the envelope and phase of light pulse changes when propagating through a single mode optical fiber, when taking power attenuation ($\\alpha$), group velocity dispersion ($\\beta_2$), third order dispersion ($\\beta_3$), waveguide nonlinearity ($\\gamma$) causing self-phase modulation (SPM), self-steepening (SS) and Stimulated Raman-response (SRS) ($T_R$) into account. Note that the effects of SS and and SRS are not included (yet) in the code.\n",
    "\n",
    "## References\n",
    "\n",
    "    Ole Krarup. (2024). NLSE-vector-solver. Retrieved from https://github.com/OleKrarup123/NLSE-vector-solver\n",
    "    Ole Krarup. (2022). The Nonlinear Schrödinger Equation solved in python!. Retrieved from https://colab.research.google.com/drive/1XyLYqrohf5GL6iFSrS6VlHoj_eSm-kAG?usp=sharing"
   ]
  },
  {
   "cell_type": "markdown",
   "metadata": {},
   "source": [
    "## Importing the modules"
   ]
  },
  {
   "cell_type": "code",
   "execution_count": 1,
   "metadata": {
    "tags": []
   },
   "outputs": [],
   "source": [
    "from libraries import *\n",
    "from variables import *\n",
    "from functions import *\n",
    "from classes import *"
   ]
  },
  {
   "cell_type": "markdown",
   "metadata": {},
   "source": [
    "## Initialize class about simulation parameters"
   ]
  },
  {
   "cell_type": "code",
   "execution_count": null,
   "metadata": {
    "tags": []
   },
   "outputs": [],
   "source": [
    "sim_config = SIM_config(N,dt,frequency0,correction_factor,wavelength0)"
   ]
  },
  {
   "cell_type": "markdown",
   "metadata": {},
   "source": [
    "## Testing the defined functions"
   ]
  },
  {
   "cell_type": "code",
   "execution_count": null,
   "metadata": {
    "tags": []
   },
   "outputs": [],
   "source": [
    "# Initialize Gaussian pulse in the time domain\n",
    "testPulse = GaussianPulseTime(sim_config.t,amplitude,duration)\n",
    "\n",
    "fig, ax1 = plt.subplots()\n",
    "ax2 = ax1.twinx()\n",
    "plt.title(\"Initial pulse\")\n",
    "ax1.plot(sim_config.t*1e15,getPower(testPulse)/np.max(getPower(testPulse)),'g-')\n",
    "ax2.plot(sim_config.t*1e15,abs(testPulse)/np.max(abs(testPulse)),'b-')\n",
    "ax1.set_xlabel(\"Time [fs]\")\n",
    "ax1.set_ylabel(\"Power [a.u.]\", color='g')\n",
    "ax2.set_ylabel(\"Amplitude [a.u.]\", color='b')\n",
    "ax1.set_ylim(0,1)\n",
    "ax2.set_ylim(0,1)\n",
    "plt.xlim(-5*duration*1e15,5*duration*1e15)\n",
    "savePlot('initial pulse')\n",
    "plt.show()"
   ]
  },
  {
   "cell_type": "markdown",
   "metadata": {},
   "source": [
    "## Testing the defined spectrum functions"
   ]
  },
  {
   "cell_type": "code",
   "execution_count": null,
   "metadata": {
    "tags": []
   },
   "outputs": [],
   "source": [
    "# Initialize Gaussian pulse in the frequency domain\n",
    "testSpectrumTheory = GaussianPulseFrequency(sim_config.f_abs,amplitude,duration)\n",
    "# Getting spectrum from pulse\n",
    "testSpectrum=getSpectrumFromPulse(sim_config.t,sim_config.f,testPulse)\n",
    "# Getting Gaussian spectrum\n",
    "testSpectrum_2=GaussianSpectrum(sim_config.t,sim_config.f_abs,amplitude,1/duration)\n",
    "plt.figure()\n",
    "plt.title(\"Spectrum of initial pulse\")\n",
    "plt.plot(sim_config.f/1e15,getPower(testSpectrumTheory)/np.max(getPower(testSpectrum)),label=\"Spectrum of the theory\")\n",
    "plt.plot(sim_config.f/1e15,getPower(testSpectrum)/np.max(getPower(testSpectrum)),label=\"Spectrum of testPulse\")\n",
    "plt.plot(sim_config.f/1e15,getPower(testSpectrum_2)/np.max(getPower(testSpectrum)),label=\"Spectrum generated with GaussianSpectrum\")\n",
    "plt.axis([-1/duration*1e-15,1/duration*1e-15,0,1])\n",
    "plt.xlabel(\"Frequency [PHz]\")\n",
    "plt.ylabel(\"Power spectral density [a.u.]\")\n",
    "plt.legend()\n",
    "savePlot('spectrum of the initial pulse')\n",
    "plt.show()"
   ]
  },
  {
   "cell_type": "markdown",
   "metadata": {},
   "source": [
    "## Testing the FWHM function"
   ]
  },
  {
   "cell_type": "code",
   "execution_count": null,
   "metadata": {},
   "outputs": [],
   "source": [
    "FWHM_frequency=FWHM(sim_config.f,getPower(testSpectrum))\n",
    "FWHM_time=FWHM(sim_config.t,getPower(testPulse))\n",
    "product=FWHM_frequency*FWHM_time\n",
    "print(f\"The product of the pulse and the spectrum's FWHM is {product}\")"
   ]
  },
  {
   "cell_type": "markdown",
   "metadata": {},
   "source": [
    "## Initialize class about fiber"
   ]
  },
  {
   "cell_type": "code",
   "execution_count": 6,
   "metadata": {
    "tags": []
   },
   "outputs": [],
   "source": [
    "fiber=Fiber_config(nsteps,Length,gamma,beta2,beta3,alpha_dB_per_m,self_steepening)"
   ]
  },
  {
   "cell_type": "markdown",
   "metadata": {},
   "source": [
    "# Run SSFM"
   ]
  },
  {
   "cell_type": "code",
   "execution_count": 7,
   "metadata": {
    "tags": []
   },
   "outputs": [],
   "source": [
    "pulseMatrix, spectrumMatrix = SSFM(fiber,sim_config,testPulse)\n",
    "testPulse0=np.copy(pulseMatrix[0,:])\n",
    "testSpectrum0=np.copy(spectrumMatrix[0,:])\n",
    "testPulseFinal=np.copy(pulseMatrix[-1,:])\n",
    "testSpectrumFinal=np.copy(spectrumMatrix[-1,:])"
   ]
  },
  {
   "cell_type": "markdown",
   "metadata": {},
   "source": [
    "## Initialize functions for plotting the results"
   ]
  },
  {
   "cell_type": "code",
   "execution_count": 8,
   "metadata": {},
   "outputs": [],
   "source": [
    "#%%script false\n",
    "FWHM_frequency_final=FWHM(sim_config.f,getPower(testSpectrumFinal))\n",
    "#plotFirstAndLastPulse(pulseMatrix,sim_config)\n",
    "#plotPulseMatrix2D(pulseMatrix,fiber,sim_config)\n",
    "#plotFirstAndLastSpectrum(spectrumMatrix,sim_config,FWHM_frequency_final)\n",
    "#PSD_wavelength(spectrumMatrix,sim_config)\n",
    "#plotSpectrumMatrix2D_1(spectrumMatrix,fiber,sim_config,FWHM_frequency_final)\n",
    "#plot_spectrogram(sim_config, pulseMatrix[0,:], 200, 200, dt, label='initial')\n",
    "#plot_spectrogram(sim_config, pulseMatrix[-1,:], 5000, 5000, dt, label='last')"
   ]
  },
  {
   "cell_type": "markdown",
   "metadata": {},
   "source": [
    "We get interesting pulse and spectrum shapes out, but are we sure that loss, dispersion and nonlinearity have been applied correctly?"
   ]
  },
  {
   "cell_type": "markdown",
   "metadata": {},
   "source": [
    "## Comparing the loss effect calculated with SSFM versus theory"
   ]
  },
  {
   "cell_type": "code",
   "execution_count": null,
   "metadata": {},
   "outputs": [],
   "source": [
    "%%script false\n",
    "\n",
    "#Define new fiber with only loss\n",
    "fiber_loss_only=Fiber_config(fiber.nsteps, fiber.Length, 0, 0, 0, fiber.alpha_dB_per_m,False)\n",
    "\n",
    "#Apply theoretical effect of loss only\n",
    "finalPulse_loss_only_theoretical = np.copy(testPulse0)*np.exp(-fiber.alpha_Np_per_m/2*fiber.Length)\n",
    "\n",
    "#Calculate effect of loss only numerically\n",
    "pulseMatrix_loss_only_SSFM,spectrumMatrix_loss_only_SSFM = SSFM(fiber_loss_only,sim_config,testPulse)\n",
    "\n",
    "finalPulse_loss_only_SSFM=pulseMatrix_loss_only_SSFM[-1,:]\n",
    "\n",
    "#Do the orange and green curves match?\n",
    "plt.figure()\n",
    "plt.title(\"Initial pulse and final pulse for loss only\")\n",
    "#t=sim_config.t[int(sim_config.number_of_points/2-nrange_time):int(sim_config.number_of_points/2+nrange_time)]*1e15\n",
    "plt.plot(sim_config.t*1e15,getPower(testPulse0)/np.max(getPower(testPulse0)),label=\"Initial Pulse\")\n",
    "plt.plot(sim_config.t*1e15,getPower(finalPulse_loss_only_theoretical)/np.max(getPower(testPulse0)),label=\"Final Pulse theoretical\")\n",
    "plt.plot(sim_config.t*1e15,getPower(finalPulse_loss_only_SSFM)/np.max(getPower(testPulse0)),label=\"Final Pulse SSFM\")\n",
    "plt.axis([-2*duration*1e15,2*duration*1e15,0,1])\n",
    "plt.xlabel(\"Time [fs]\")\n",
    "plt.ylabel(\"Power [a.u.]\")\n",
    "plt.legend()\n",
    "savePlot('initial pulse and final pulse for loss only')\n",
    "plt.show()\n",
    "\n",
    "#Quantify error by looking at the energy of the difference between numerical and theoretical result. \n",
    "loss_err = getEnergy(sim_config.t,(finalPulse_loss_only_SSFM-finalPulse_loss_only_theoretical))/getEnergy(sim_config.t, finalPulse_loss_only_theoretical)\n",
    "print(f\"Loss error computed by energy of difference between theory and SSFM is {loss_err}\")\n",
    "\n",
    "#Alternatively, compute the difference of their two energies\n",
    "loss_err2 = (getEnergy(sim_config.t,finalPulse_loss_only_SSFM)-getEnergy(sim_config.t,finalPulse_loss_only_theoretical))/getEnergy(sim_config.t, finalPulse_loss_only_theoretical)\n",
    "print(f\"Loss error computed by difference of energy between theory and SSFM is {loss_err2}\")"
   ]
  },
  {
   "cell_type": "markdown",
   "metadata": {},
   "source": [
    "## Comparing the GVD calculated with SSFM versus theory"
   ]
  },
  {
   "cell_type": "code",
   "execution_count": null,
   "metadata": {},
   "outputs": [],
   "source": [
    "%%script false\n",
    "\n",
    "#Define new fiber with only group velocity dispersion\n",
    "fiber_disp_only=Fiber_config(fiber.nsteps, fiber.Length, 0, fiber.beta2, 0, 0, False)\n",
    "\n",
    "#Apply theoretical effect of only group velocity dispersion\n",
    "disp_theo = np.exp(1j*fiber_disp_only.beta2/2*(2*pi*sim_config.f)**2*fiber_disp_only.Length )  \n",
    "finalPulse_disp_only_theo = getPulseFromSpectrum(sim_config.t,sim_config.f, getSpectrumFromPulse(sim_config.t,sim_config.f,testPulse0)*disp_theo)\n",
    "\n",
    "#Calculate group velocity disperson only effect numerically\n",
    "pulseMatrix_disp_only,_ = SSFM(fiber_disp_only,sim_config,testPulse0)\n",
    "\n",
    "finalPulse_disp_only_SSFM=pulseMatrix_disp_only[-1,:]\n",
    "\n",
    "#Do the orange and green curves match?\n",
    "plt.figure()\n",
    "plt.title(\"Initial pulse and final pulse for GVD only\")\n",
    "plt.plot(sim_config.t*1e15,getPower(testPulse0)/np.max(getPower(testPulse0)),label=\"Initial Pulse\")\n",
    "plt.plot(sim_config.t*1e15,getPower(finalPulse_disp_only_theo)/np.max(getPower(testPulse0)),label=\"Final Pulse theoretical\")\n",
    "plt.plot(sim_config.t*1e15,getPower(finalPulse_disp_only_SSFM)/np.max(getPower(testPulse0)),label=\"Final Pulse SSFM\")\n",
    "plt.axis([-5*duration*1e15,5*duration*1e15,0,1])\n",
    "plt.xlabel(\"Time [fs]\")\n",
    "plt.ylabel(\"Power [a.u.]\")\n",
    "plt.legend()\n",
    "savePlot('initial and final pulse for GVD only')\n",
    "plt.show()\n",
    "\n",
    "#Quantify error by looking at the energy of the difference between numerical and theoretical result. \n",
    "disp_err = getEnergy(sim_config.t,(finalPulse_disp_only_SSFM-finalPulse_disp_only_theo))/getEnergy(sim_config.t, finalPulse_disp_only_theo)\n",
    "print(f\"Disp error computed by energy of difference between theory and SSFM is {disp_err}\")\n",
    "\n",
    "#Alternatively, compute the difference of their two energies\n",
    "disp_err2 = (getEnergy(sim_config.t,finalPulse_disp_only_SSFM)-getEnergy(sim_config.t,finalPulse_disp_only_theo))/getEnergy(sim_config.t, finalPulse_disp_only_theo)\n",
    "print(f\"Disp error computed by difference of energy between theory and SSFM is {disp_err2}\")"
   ]
  },
  {
   "cell_type": "markdown",
   "metadata": {},
   "source": [
    "Positive dispersion (beta2>0) should lead to a negative (red) frequency shift (chirp) for the leading part of the pulse. Let's check that this is correct."
   ]
  },
  {
   "cell_type": "code",
   "execution_count": null,
   "metadata": {},
   "outputs": [],
   "source": [
    "%%script false\n",
    "\n",
    "#Is the chirp negative (red) in the front and positive (blue) in the back for beta2>0? \n",
    "#Is the chirp positive (blue) in the front and negative (red) in the back for beta2<0? \n",
    "\n",
    "plt.figure()\n",
    "plt.title(f\"Initial chirp and final chirp for disp only with beta2 = {fiber.beta2*1e30} fs^2/m\")\n",
    "plt.plot(sim_config.t*1e15,getChirp(sim_config.t,testPulse0)/1e15,label=\"Initial Pulse\")\n",
    "plt.plot(sim_config.t*1e15,getChirp(sim_config.t,finalPulse_disp_only_theo)/1e15,label=\"Final Pulse theoretical\")\n",
    "plt.plot(sim_config.t*1e15,getChirp(sim_config.t,finalPulse_disp_only_SSFM)/1e15,label=\"Final Pulse SSFM\")\n",
    "#plt.axis([-10*duration*1e15,10*duration*1e15,-1e-1,1e-1])\n",
    "plt.xlabel(\"Time [fs]\")\n",
    "plt.ylabel(\"Chirp [PHz]\")\n",
    "plt.legend()\n",
    "plt.show() "
   ]
  },
  {
   "cell_type": "markdown",
   "metadata": {},
   "source": [
    "## Comparing the TOD calculated with SSFM versus theory"
   ]
  },
  {
   "cell_type": "code",
   "execution_count": null,
   "metadata": {},
   "outputs": [],
   "source": [
    "%%script false\n",
    "\n",
    "#Define new fiber with only third order dispersion\n",
    "fiber_disp_only=Fiber_config(fiber.nsteps, fiber.Length, 0, 0, fiber.beta3, 0, False)\n",
    "\n",
    "#Apply theoretical effect of only third order dispersion\n",
    "disp_theo = np.exp(1j*fiber_disp_only.beta3/6*(2*pi*sim_config.f)**3*fiber_disp_only.Length )  \n",
    "finalPulse_disp_only_theo = getPulseFromSpectrum(sim_config.t,sim_config.f, getSpectrumFromPulse(sim_config.t,sim_config.f,testPulse0)*disp_theo)\n",
    "\n",
    "#Calculate third order disperson only effect numerically\n",
    "pulseMatrix_disp_only,_ = SSFM(fiber_disp_only,sim_config,testPulse0)\n",
    "\n",
    "finalPulse_disp_only_SSFM=pulseMatrix_disp_only[-1,:]\n",
    "\n",
    "#Do the orange and green curves match?\n",
    "plt.figure()\n",
    "plt.title(\"Initial pulse and final pulse for TOD only\")\n",
    "plt.plot(sim_config.t*1e15,getPower(testPulse0)/np.max(getPower(testPulse0)),label=\"Initial Pulse\")\n",
    "plt.plot(sim_config.t*1e15,getPower(finalPulse_disp_only_theo)/np.max(getPower(testPulse0)),label=\"Final Pulse theoretical\")\n",
    "plt.plot(sim_config.t*1e15,getPower(finalPulse_disp_only_SSFM)/np.max(getPower(testPulse0)),label=\"Final Pulse SSFM\")\n",
    "plt.axis([-10*duration*1e15,10*duration*1e15,0,1])\n",
    "plt.xlabel(\"Time [fs]\")\n",
    "plt.ylabel(\"Power [a.u.]\")\n",
    "plt.legend()\n",
    "savePlot('initial pulse and final pulse for TOD only')\n",
    "plt.show()\n",
    "\n",
    "#Quantify error by looking at the energy of the difference between numerical and theoretical result. \n",
    "disp_err = getEnergy(sim_config.t,(finalPulse_disp_only_SSFM-finalPulse_disp_only_theo))/getEnergy(sim_config.t, finalPulse_disp_only_theo)\n",
    "print(f\"Disp error computed by energy of difference between theory and SSFM is {disp_err}\")\n",
    "\n",
    "#Alternatively, compute the difference of their two energies\n",
    "disp_err2 = (getEnergy(sim_config.t,finalPulse_disp_only_SSFM)-getEnergy(sim_config.t,finalPulse_disp_only_theo))/getEnergy(sim_config.t, finalPulse_disp_only_theo)\n",
    "print(f\"Disp error computed by difference of energy between theory and SSFM is {disp_err2}\")"
   ]
  },
  {
   "cell_type": "markdown",
   "metadata": {},
   "source": [
    "## Comparing the $\\gamma$ effect calculated with SSFM versus theory"
   ]
  },
  {
   "cell_type": "code",
   "execution_count": null,
   "metadata": {},
   "outputs": [],
   "source": [
    "%%script false\n",
    "\n",
    "#Define new fiber with only gamma\n",
    "fiber_gamma_only=Fiber_config(fiber.nsteps, fiber.Length, fiber.gamma, 0, 0, 0, False)\n",
    "\n",
    "#Apply theoretical effect of only gamma\n",
    "finalPulse_gamma_only_theoretical = np.copy(testPulse0)*np.exp(1j*(fiber_gamma_only.Length)*(fiber_gamma_only.gamma)*getPower(testPulse0))\n",
    "\n",
    "finalSpectrum_gamma_only_theoretical=getSpectrumFromPulse(sim_config.t,sim_config.f_abs_plot,finalPulse_gamma_only_theoretical)\n",
    "\n",
    "#Calculate gamma only effect numerically\n",
    "pulseMatrix_gamma_only_SSFM,spectrumMatrix_gamma_only_SSFM = SSFM(fiber_gamma_only,sim_config,testPulse0)\n",
    "\n",
    "finalSpectrum_gamma_only_SSFM = spectrumMatrix_gamma_only_SSFM[-1,:]\n",
    "\n",
    "FWHM_frequency_final_gamma_only_SSFM=FWHM(sim_config.f_abs_plot,getPower(finalSpectrum_gamma_only_SSFM))\n",
    "\n",
    "#Do the orange and green curves match?\n",
    "plt.figure()\n",
    "plt.title(\"Initial spectrum and final spectrum for gamma only\")\n",
    "plt.plot(sim_config.f_abs_plot/1e15,getPower(testSpectrum0)/np.max(getPower(testSpectrum0)),label=\"Initial Spectrum\")\n",
    "plt.plot(sim_config.f_abs_plot/1e15,getPower(finalSpectrum_gamma_only_theoretical)/np.max(getPower(testSpectrum0)),label=\"Final Spectrum theoretical\")\n",
    "plt.plot(sim_config.f_abs_plot/1e15,getPower(finalSpectrum_gamma_only_SSFM)/np.max(getPower(testSpectrum0)),label=\"Final Spectrum SSFM\")\n",
    "plt.axis([0,2*sim_config.frequency0_without_correction/1e15,0,1])\n",
    "#plt.axis([-1/(duration*1e15)*5,1/(duration*1e15)*5,0,1])\n",
    "plt.xlabel(\"Frequency [PHZ]\")\n",
    "plt.ylabel(\"Power spectrum density [a.u.]\")\n",
    "plt.legend()\n",
    "savePlot('initial spectrum and final spectrum for gamma only')\n",
    "plt.show()\n",
    "\n",
    "#Quantify error by looking at the energy of the difference between numerical and theoretical result. \n",
    "gamma_err = getEnergy(sim_config.f_abs_plot,(finalSpectrum_gamma_only_SSFM-finalSpectrum_gamma_only_theoretical))/getEnergy(sim_config.f_abs_plot, finalSpectrum_gamma_only_theoretical)\n",
    "print(f\"Gamma error computed by energy of difference between theory and SSFM is {gamma_err}\")\n",
    "\n",
    "#Alternatively, compute the difference of their two energies\n",
    "gamma_err2 = (getEnergy(sim_config.f_abs_plot,finalSpectrum_gamma_only_SSFM)-getEnergy(sim_config.f_abs_plot,finalSpectrum_gamma_only_theoretical))/getEnergy(sim_config.f_abs_plot, finalSpectrum_gamma_only_theoretical)\n",
    "print(f\"Gamma error computed by difference of energy between theory and SSFM is {gamma_err2}\")"
   ]
  },
  {
   "cell_type": "markdown",
   "metadata": {},
   "source": [
    "## Checking if self-phase modulation causes a negative (red) leading chirp"
   ]
  },
  {
   "cell_type": "code",
   "execution_count": null,
   "metadata": {},
   "outputs": [],
   "source": [
    "%%script false\n",
    "\n",
    "#Is the chirp negative (red) in the front and positive (blue) in the back for gamma>0? \n",
    "#Is the chirp positive (blue) in the front and negative (red) in the back for gamma<0? \n",
    "plt.figure()\n",
    "plt.title(f\"Initial chirp and final chirp for gamma only with gamma = {fiber_gamma_only.gamma} 1/W*m\")\n",
    "plt.plot(sim_config.t*1e15,getChirp(sim_config.t,testPulse0)/1e15,label=\"Initial Pulse\")\n",
    "plt.plot(sim_config.t*1e15,getChirp(sim_config.t,finalPulse_gamma_only_theoretical)/1e15,label=\"Final Pulse theoretical\")\n",
    "plt.plot(sim_config.t*1e15,getChirp(sim_config.t,finalPulse_gamma_only_theoretical)/1e15,label=\"Final Pulse SSFM\")\n",
    "#plt.axis([-150,150,-1,1])\n",
    "plt.xlabel(\"Time [fs]\")\n",
    "plt.ylabel(\"Chirp [PHz]\")\n",
    "plt.legend()\n",
    "plt.show() "
   ]
  },
  {
   "cell_type": "markdown",
   "metadata": {},
   "source": [
    "## Checking if we got a shorter (dispersion-compensated) pulse FWHM than the initial pulse FWHM"
   ]
  },
  {
   "cell_type": "code",
   "execution_count": null,
   "metadata": {},
   "outputs": [],
   "source": [
    "#%%script false\n",
    "\n",
    "time=sim_config.t\n",
    "testSpectrumFinalAbsoluteValue=abs(testSpectrumFinal)\n",
    "pulseFromTestSpectrumFinal=ifftshift(ifft(testSpectrumFinalAbsoluteValue))/dt\n",
    "pulseFromTestSpectrumFinalAbsoluteValue=abs(pulseFromTestSpectrumFinal)\n",
    "testPulseAbsoluteValue=abs(testPulse)\n",
    "\n",
    "plt.figure()\n",
    "plt.title(\"Initial and dispersion-compensated final pulse\")\n",
    "plt.plot(time*1e15,getPower(testPulseAbsoluteValue)/np.max(getPower(pulseFromTestSpectrumFinalAbsoluteValue)),label=\"Initial pulse\")\n",
    "plt.plot(time*1e15,getPower(pulseFromTestSpectrumFinalAbsoluteValue)/np.max(getPower(pulseFromTestSpectrumFinalAbsoluteValue)),label=\"Final pulse\")\n",
    "plt.axis([-duration*1e15,duration*1e15,0,1])\n",
    "plt.xlabel(\"Time [fs]\")\n",
    "plt.ylabel(\"Power [a.u.]\")\n",
    "plt.legend()\n",
    "savePlot('initial and dispersion-compensated final pulse')\n",
    "plt.show()\n",
    "\n",
    "print(f\"The initial pulse's FWHM is {FWHM(time,getPower(testPulseAbsoluteValue))} s\")\n",
    "print(f\"The final pulse's FWHM is {FWHM(time,getPower(pulseFromTestSpectrumFinalAbsoluteValue))} s\")"
   ]
  },
  {
   "cell_type": "markdown",
   "metadata": {},
   "source": [
    "## Comparing the self-steepening effect versus without it"
   ]
  },
  {
   "cell_type": "code",
   "execution_count": null,
   "metadata": {},
   "outputs": [],
   "source": [
    "%%script false\n",
    "\n",
    "#Define new fiber without self-steepening\n",
    "fiber_without_self_steepening=Fiber_config(fiber.nsteps, fiber.Length, fiber.gamma, fiber.beta2, fiber.beta3, fiber.alpha_dB_per_m, False)\n",
    "\n",
    "#Calculate pulse propagation numerically without self-steepening\n",
    "pulseMatrix_without_self_steepening_SSFM,_=SSFM(fiber_without_self_steepening,sim_config,testPulse0)\n",
    "\n",
    "#Final pulse\n",
    "finalPulse_without_self_steepening_SSFM=pulseMatrix_without_self_steepening_SSFM[-1,:]\n",
    "\n",
    "#Define new fiber with self-steepening\n",
    "fiber_with_self_steepening=Fiber_config(fiber.nsteps, fiber.Length, fiber.gamma, fiber.beta2, fiber.beta3, fiber.alpha_dB_per_m, True)\n",
    "\n",
    "#Calculate pulse propagation numerically with self-steepening\n",
    "pulseMatrix_with_self_steepening_SSFM,_=SSFM(fiber_with_self_steepening,sim_config,testPulse0)\n",
    "\n",
    "#Final pulse\n",
    "finalPulse_with_self_steepening_SSFM=pulseMatrix_with_self_steepening_SSFM[-1,:]\n",
    "\n",
    "time=sim_config.t\n",
    "plt.figure()\n",
    "plt.title(\"With and without self-steepening\")\n",
    "plt.plot(time*1e15,getPower(finalPulse_without_self_steepening_SSFM)/np.max(getPower(finalPulse_without_self_steepening_SSFM)),label=\"Without self-steepening\")\n",
    "plt.plot(time*1e15,getPower(finalPulse_with_self_steepening_SSFM)/np.max(getPower(finalPulse_with_self_steepening_SSFM)),label=\"With self-steepening\")\n",
    "plt.xlabel(\"Time [fs]\")\n",
    "plt.ylabel(\"Power [a.u.]\")\n",
    "plt.legend()\n",
    "savePlot('With and without self-steepening')\n",
    "plt.show()"
   ]
  },
  {
   "cell_type": "markdown",
   "metadata": {},
   "source": [
    "## Checking how reducing the number of steps affects pulse accuracy"
   ]
  },
  {
   "cell_type": "markdown",
   "metadata": {},
   "source": [
    "According to [theoretical considerations](https://en.wikipedia.org/wiki/Split-step_method), the error should decrease according to (Δz)^2. Let's check if this is the case by\n",
    "\n",
    "1.  Using the pulse computed with nsteps as a baseline.\n",
    "2.  Running SSFM with increasing step numbers (=decreasing step size) and determining the error between the calculated pulse and the baseline.\n",
    "3.  Plotting the error as a function of nsteps, fitting a model like \"b*(nsteps)^a\" to the data and checking if a=-2."
   ]
  },
  {
   "cell_type": "code",
   "execution_count": null,
   "metadata": {},
   "outputs": [],
   "source": [
    "%%script false\n",
    "\n",
    "#First, make a copy of the pulse computed with the original fiber settings and nsteps\n",
    "baselinePulse = np.copy(testPulseFinal)\n",
    "\n",
    "#Make array of the number of steps\n",
    "#nsteps_list=np.logspace(0,np.log10(fiber.nsteps),9)  \n",
    "nsteps_list=[2**4, 2**5, 2**6, 2**7, 2**8, 2**9, 2**10]\n",
    "      \n",
    "#Pre-define arrays for holding errors\n",
    "err_list=np.zeros_like(nsteps_list)*1.0\n",
    "\n",
    "#Start figure and plot the pulse with the large number of steps\n",
    "plt.figure()\n",
    "plt.plot(sim_config.t*1e15,getPower(baselinePulse)/1e12,label=f\"Baseline for nsteps = {fiber.nsteps}\")\n",
    "\n",
    "#For each iteration, define a new fiber with a different number of steps but the same physical properties\n",
    "for i in range(0,len(nsteps_list)):\n",
    "  nsteps_i=int(nsteps_list[i])\n",
    "  fiber_i=Fiber_config(nsteps_i, fiber.Length, fiber.gamma, fiber.beta2, fiber.beta3, fiber.alpha_dB_per_m, False)\n",
    "  \n",
    "  #Run the simulation and plot the computed pulse\n",
    "  pulseMatrix_i,_=SSFM(fiber_i,sim_config,np.copy(testPulse0))\n",
    "  \n",
    "  pulse_i=pulseMatrix_i[-1,:]\n",
    "  \n",
    "  plt.plot(sim_config.t*1e15,getPower(pulse_i)/1e12,label=f\"Pulse for nsteps = {nsteps_i}\")\n",
    "  \n",
    "  #Compute and store errors\n",
    "  err = getEnergy(sim_config.t,(pulse_i-baselinePulse))/getEnergy(sim_config.t, baselinePulse)*100\n",
    "  err_list[i]=err\n",
    "\n",
    "plt.xlabel(\"Time [fs]\")\n",
    "plt.ylabel(\"Power [TW]\")\n",
    "plt.legend(bbox_to_anchor=(1.05,0.3))\n",
    "plt.show()"
   ]
  },
  {
   "cell_type": "markdown",
   "metadata": {},
   "source": [
    "## Convergence of the solution"
   ]
  },
  {
   "cell_type": "markdown",
   "metadata": {},
   "source": [
    "Now make a plot of the error versus nsteps"
   ]
  },
  {
   "cell_type": "code",
   "execution_count": null,
   "metadata": {},
   "outputs": [],
   "source": [
    "%%script false\n",
    "\n",
    "x=np.log10(nsteps_list[1:-1])\n",
    "y=np.log10(err_list[1:-1]/np.max(err_list))\n",
    "\n",
    "model = np.polyfit(x, y, 1)\n",
    "print(\"Model parameters [a,b]=\",model)\n",
    "y_model=np.poly1d(model)\n",
    "plt.figure()\n",
    "plt.plot(x,y_model(x),'r-',label=f\"$err(1 step)*nsteps^{  {np.round(model[0],3)}}$\")\n",
    "plt.plot(x,y,'.')\n",
    "plt.xlabel('log10(nsteps)')\n",
    "plt.ylabel('log10(err/err_max)')\n",
    "plt.legend()\n",
    "plt.show()"
   ]
  },
  {
   "cell_type": "markdown",
   "metadata": {},
   "source": [
    "## Calculating the absorption coefficient from Sellmeier formula using Kramers-Kronig relation"
   ]
  },
  {
   "cell_type": "code",
   "execution_count": null,
   "metadata": {},
   "outputs": [],
   "source": [
    "%%script false\n",
    "\n",
    "x = np.arange(frequency_lower,frequency_upper,1e10) # Frequency step array\n",
    "#x = sim_config.f\n",
    "y_1 = getRefractiveIndex(x,B1,B2,B3,C1,C2,C3)\n",
    "y_2 = getExtintionCoefficient(y_1)\n",
    "y_3 = getAbsorptionCoefficient(y_2,x)\n",
    "\n",
    "plotRefractiveIndex(x,y_1)\n",
    "plotExtintionCoefficient(x,y_2)\n",
    "plotAbsorptionCoefficient(x,y_3)"
   ]
  },
  {
   "cell_type": "markdown",
   "metadata": {},
   "source": [
    "## Calculating the GVD from Sellmeier formula"
   ]
  },
  {
   "cell_type": "code",
   "execution_count": null,
   "metadata": {},
   "outputs": [],
   "source": [
    "%%script false\n",
    "\n",
    "y_4 = getFirstDerivateveOfRefractiveIndex(x,y_1,B1,B2,B3,C1,C2,C3)\n",
    "y_5 = getSecondDerivateveOfRefractiveIndex(x,y_1,y_4,B1,B2,B3,C1,C2,C3)\n",
    "y_6 = getGroupVelocityDispersion(x,y_5)\n",
    "\n",
    "plotFirstDerivateveOfRefractiveIndex(x,y_4)\n",
    "plotSecondDerivateveOfRefractiveIndex(x,y_5)\n",
    "plotGroupVelocityDispersion(x,y_6)"
   ]
  }
 ],
 "metadata": {
  "kernelspec": {
   "display_name": "Python 3",
   "language": "python",
   "name": "python3"
  },
  "language_info": {
   "codemirror_mode": {
    "name": "ipython",
    "version": 3
   },
   "file_extension": ".py",
   "mimetype": "text/x-python",
   "name": "python",
   "nbconvert_exporter": "python",
   "pygments_lexer": "ipython3",
   "version": "3.11.5"
  }
 },
 "nbformat": 4,
 "nbformat_minor": 4
}
